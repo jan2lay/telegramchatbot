{
 "cells": [
  {
   "cell_type": "code",
   "execution_count": 2,
   "metadata": {},
   "outputs": [],
   "source": [
    "from flask import Flask, request\n",
    "from langchain_community.llms import Ollama\n",
    "from langchain_community.vectorstores import Milvus\n",
    "from langchain_text_splitters import RecursiveCharacterTextSplitter\n",
    "from langchain_community.embeddings.fastembed import FastEmbedEmbeddings\n",
    "from langchain_community.document_loaders import PDFPlumberLoader\n",
    "from langchain.chains.combine_documents import create_stuff_documents_chain\n",
    "from langchain.chains import create_retrieval_chain\n",
    "from langchain.prompts import PromptTemplate"
   ]
  },
  {
   "cell_type": "code",
   "execution_count": 3,
   "metadata": {},
   "outputs": [],
   "source": [
    "app = Flask(__name__)"
   ]
  },
  {
   "cell_type": "code",
   "execution_count": 5,
   "metadata": {},
   "outputs": [
    {
     "name": "stderr",
     "output_type": "stream",
     "text": [
      "/home/mydocker/.conda/envs/langchain/lib/python3.11/site-packages/tqdm/auto.py:21: TqdmWarning: IProgress not found. Please update jupyter and ipywidgets. See https://ipywidgets.readthedocs.io/en/stable/user_install.html\n",
      "  from .autonotebook import tqdm as notebook_tqdm\n",
      "ort_config.json: 100%|██████████| 1.27k/1.27k [00:00<00:00, 5.30MB/s]\n",
      "config.json: 100%|██████████| 706/706 [00:00<00:00, 3.49MB/s]\n",
      "README.md: 100%|██████████| 28.0/28.0 [00:00<00:00, 135kB/s]\n",
      "tokenizer_config.json: 100%|██████████| 1.24k/1.24k [00:00<00:00, 4.42MB/s]\n",
      "\n",
      "\u001b[A\n",
      "\n",
      "\u001b[A\u001b[A\n",
      "\n",
      "\n",
      "special_tokens_map.json: 100%|██████████| 695/695 [00:00<00:00, 2.20MB/s]\n",
      "\n",
      "\n",
      "\n",
      ".gitattributes: 100%|██████████| 1.52k/1.52k [00:00<00:00, 4.64MB/s]\n",
      "Fetching 9 files:  11%|█         | 1/9 [00:02<00:17,  2.24s/it]\n",
      "\n",
      "vocab.txt: 100%|██████████| 232k/232k [00:00<00:00, 424kB/s]\n",
      "tokenizer.json: 100%|██████████| 711k/711k [00:01<00:00, 668kB/s]\n",
      "\n",
      "\u001b[A\n",
      "\u001b[A\n",
      "\u001b[A\n",
      "\u001b[A\n",
      "\u001b[A\n",
      "\u001b[A\n",
      "model_optimized.onnx: 100%|██████████| 66.5M/66.5M [00:05<00:00, 11.5MB/s]\n",
      "Fetching 9 files: 100%|██████████| 9/9 [00:07<00:00,  1.21it/s]\n"
     ]
    }
   ],
   "source": [
    "folder_path = \"db\"\n",
    "cached_llm = Ollama(model=\"llama3\")\n",
    "embedding = FastEmbedEmbeddings()\n",
    "text_splitter = RecursiveCharacterTextSplitter(\n",
    "    chunk_size=1024, chunk_overlap=80, length_function=len, is_separator_regex=False\n",
    ")\n",
    "raw_prompt = PromptTemplate.from_template(\n",
    "    \"\"\"\n",
    "    <s>[INST] You are a technical assistant good at searching docuemnts. If you do not have an answer from the provided information say so. [/INST] </s>\n",
    "    [INST] {input}\n",
    "    Context: {context}\n",
    "    Answer:\n",
    "    [/INST]\n",
    "    \"\"\"\n",
    ")"
   ]
  },
  {
   "cell_type": "code",
   "execution_count": 8,
   "metadata": {},
   "outputs": [],
   "source": [
    "@app.route(\"/ai\", methods=[\"POST\"])\n",
    "def aiPost():\n",
    "    print(\"Post /ai called\")\n",
    "    json_content = request.json\n",
    "    query = json_content.get(\"query\")\n",
    "    print(f\"query: {query}\")\n",
    "    response = cached_llm.invoke(query)\n",
    "    print(response)\n",
    "    response_answer = {\"answer\": response}\n",
    "    return response_answer"
   ]
  },
  {
   "cell_type": "code",
   "execution_count": 13,
   "metadata": {},
   "outputs": [],
   "source": [
    "@app.route(\"/pdf\", methods=[\"POST\"])\n",
    "def pdfPost():\n",
    "    file = request.files[\"file\"]\n",
    "    file_name = file.filename\n",
    "    save_file = \"pdf/\" + file_name\n",
    "    file.save(save_file)\n",
    "    print(f\"filename: {file_name}\")\n",
    "    loader = PDFPlumberLoader(save_file)\n",
    "    docs = loader.load_and_split()\n",
    "    print(f\"docs len={len(docs)}\")\n",
    "    chunks = text_splitter.split_documents(docs)\n",
    "    print(f\"chunks len={len(chunks)}\")\n",
    "    milvus_store.from_documents(chunks)\n",
    "    milvus_store.persist()\n",
    "    response = {\n",
    "        \"status\": \"Successfully Uploaded\",\n",
    "        \"filename\": file_name,\n",
    "        \"doc_len\": len(docs),\n",
    "        \"chunks\": len(chunks),\n",
    "    }\n",
    "    return response"
   ]
  },
  {
   "cell_type": "code",
   "execution_count": 14,
   "metadata": {},
   "outputs": [],
   "source": [
    "@app.route(\"/ask_pdf\", methods=[\"POST\"])\n",
    "def askPDFPost():\n",
    "    print(\"Post /ask_pdf called\")\n",
    "    json_content = request.json\n",
    "    query = json_content.get(\"query\")\n",
    "    print(f\"query: {query}\")\n",
    "    print(\"Creating chain\")\n",
    "    retriever = milvus_store.as_retriever(\n",
    "        search_type=\"similarity_score_threshold\",\n",
    "        search_kwargs={\n",
    "            \"k\": 20,\n",
    "            \"score_threshold\": 0.1,\n",
    "        },\n",
    "    )\n",
    "    document_chain = create_stuff_documents_chain(cached_llm, raw_prompt)\n",
    "    chain = create_retrieval_chain(retriever, document_chain)\n",
    "    result = chain.invoke({\"input\": query})\n",
    "    print(result)\n",
    "    sources = []\n",
    "    for doc in result[\"context\"]:\n",
    "        sources.append(\n",
    "            {\"source\": doc.metadata[\"source\"], \"page_content\": doc.page_content}\n",
    "        )\n",
    "    response_answer = {\"answer\": result[\"answer\"], \"sources\": sources}\n",
    "    return response_answer"
   ]
  },
  {
   "cell_type": "code",
   "execution_count": 20,
   "metadata": {},
   "outputs": [],
   "source": [
    "def start_app():\n",
    "    app.run(host=\"0.0.0.0\", port=8085, debug=True)"
   ]
  },
  {
   "cell_type": "code",
   "execution_count": 21,
   "metadata": {},
   "outputs": [
    {
     "name": "stdout",
     "output_type": "stream",
     "text": [
      " * Serving Flask app '__main__'\n",
      " * Debug mode: on\n"
     ]
    },
    {
     "name": "stderr",
     "output_type": "stream",
     "text": [
      "\u001b[31m\u001b[1mWARNING: This is a development server. Do not use it in a production deployment. Use a production WSGI server instead.\u001b[0m\n",
      " * Running on all addresses (0.0.0.0)\n",
      " * Running on http://127.0.0.1:8085\n",
      " * Running on http://192.168.33.55:8085\n",
      "\u001b[33mPress CTRL+C to quit\u001b[0m\n",
      " * Restarting with stat\n",
      "0.00s - Debugger warning: It seems that frozen modules are being used, which may\n",
      "0.00s - make the debugger miss breakpoints. Please pass -Xfrozen_modules=off\n",
      "0.00s - to python to disable frozen modules.\n",
      "0.00s - Note: Debugging will proceed. Set PYDEVD_DISABLE_FILE_VALIDATION=1 to disable this validation.\n",
      "Traceback (most recent call last):\n",
      "  File \"<frozen runpy>\", line 198, in _run_module_as_main\n",
      "  File \"<frozen runpy>\", line 88, in _run_code\n",
      "  File \"/home/mydocker/.conda/envs/langchain/lib/python3.11/site-packages/ipykernel_launcher.py\", line 18, in <module>\n",
      "    app.launch_new_instance()\n",
      "  File \"/home/mydocker/.conda/envs/langchain/lib/python3.11/site-packages/traitlets/config/application.py\", line 1074, in launch_instance\n",
      "    app.initialize(argv)\n",
      "  File \"/home/mydocker/.conda/envs/langchain/lib/python3.11/site-packages/traitlets/config/application.py\", line 118, in inner\n",
      "    return method(app, *args, **kwargs)\n",
      "           ^^^^^^^^^^^^^^^^^^^^^^^^^^^^\n",
      "  File \"/home/mydocker/.conda/envs/langchain/lib/python3.11/site-packages/ipykernel/kernelapp.py\", line 692, in initialize\n",
      "    self.init_sockets()\n",
      "  File \"/home/mydocker/.conda/envs/langchain/lib/python3.11/site-packages/ipykernel/kernelapp.py\", line 331, in init_sockets\n",
      "    self.shell_port = self._bind_socket(self.shell_socket, self.shell_port)\n",
      "                      ^^^^^^^^^^^^^^^^^^^^^^^^^^^^^^^^^^^^^^^^^^^^^^^^^^^^^\n",
      "  File \"/home/mydocker/.conda/envs/langchain/lib/python3.11/site-packages/ipykernel/kernelapp.py\", line 253, in _bind_socket\n",
      "    return self._try_bind_socket(s, port)\n",
      "           ^^^^^^^^^^^^^^^^^^^^^^^^^^^^^^\n",
      "  File \"/home/mydocker/.conda/envs/langchain/lib/python3.11/site-packages/ipykernel/kernelapp.py\", line 229, in _try_bind_socket\n",
      "    s.bind(\"tcp://%s:%i\" % (self.ip, port))\n",
      "  File \"/home/mydocker/.conda/envs/langchain/lib/python3.11/site-packages/zmq/sugar/socket.py\", line 302, in bind\n",
      "    super().bind(addr)\n",
      "  File \"zmq/backend/cython/socket.pyx\", line 564, in zmq.backend.cython.socket.Socket.bind\n",
      "  File \"zmq/backend/cython/checkrc.pxd\", line 28, in zmq.backend.cython.checkrc._check_rc\n",
      "zmq.error.ZMQError: Address already in use (addr='tcp://127.0.0.1:9007')\n"
     ]
    },
    {
     "ename": "SystemExit",
     "evalue": "1",
     "output_type": "error",
     "traceback": [
      "An exception has occurred, use %tb to see the full traceback.\n",
      "\u001b[0;31mSystemExit\u001b[0m\u001b[0;31m:\u001b[0m 1\n"
     ]
    },
    {
     "name": "stderr",
     "output_type": "stream",
     "text": [
      "/home/mydocker/.conda/envs/langchain/lib/python3.11/site-packages/IPython/core/interactiveshell.py:3585: UserWarning: To exit: use 'exit', 'quit', or Ctrl-D.\n",
      "  warn(\"To exit: use 'exit', 'quit', or Ctrl-D.\", stacklevel=1)\n"
     ]
    }
   ],
   "source": [
    "if __name__ == \"__main__\":\n",
    "    start_app()"
   ]
  }
 ],
 "metadata": {
  "kernelspec": {
   "display_name": "langchain",
   "language": "python",
   "name": "python3"
  },
  "language_info": {
   "codemirror_mode": {
    "name": "ipython",
    "version": 3
   },
   "file_extension": ".py",
   "mimetype": "text/x-python",
   "name": "python",
   "nbconvert_exporter": "python",
   "pygments_lexer": "ipython3",
   "version": "3.11.8"
  }
 },
 "nbformat": 4,
 "nbformat_minor": 2
}
