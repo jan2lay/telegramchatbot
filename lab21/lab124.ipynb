{
 "cells": [
  {
   "cell_type": "code",
   "execution_count": 1,
   "metadata": {},
   "outputs": [
    {
     "data": {
      "text/plain": [
       "True"
      ]
     },
     "execution_count": 1,
     "metadata": {},
     "output_type": "execute_result"
    }
   ],
   "source": [
    "from dotenv import load_dotenv\n",
    "from langchain_community.utilities import GoogleSerperAPIWrapper\n",
    "from langchain_openai import OpenAI\n",
    "from langchain.agents import initialize_agent, Tool\n",
    "from langchain.agents import AgentType\n",
    "\n",
    "import os\n",
    "load_dotenv()\n"
   ]
  },
  {
   "cell_type": "code",
   "execution_count": 2,
   "metadata": {},
   "outputs": [],
   "source": [
    "llm = OpenAI(temperature=0)\n",
    "search = GoogleSerperAPIWrapper()\n",
    "tools = [\n",
    "    Tool(\n",
    "        name=\"Intermediate Answer\",\n",
    "        func=search.run,\n",
    "        description=\"useful for when you need to ask with search\"\n",
    "    )\n",
    "]"
   ]
  },
  {
   "cell_type": "code",
   "execution_count": 3,
   "metadata": {},
   "outputs": [
    {
     "name": "stderr",
     "output_type": "stream",
     "text": [
      "/home/mydocker/.conda/envs/iamai/lib/python3.11/site-packages/langchain_core/_api/deprecation.py:117: LangChainDeprecationWarning: The function `initialize_agent` was deprecated in LangChain 0.1.0 and will be removed in 0.2.0. Use Use new agent constructor methods like create_react_agent, create_json_agent, create_structured_chat_agent, etc. instead.\n",
      "  warn_deprecated(\n",
      "/home/mydocker/.conda/envs/iamai/lib/python3.11/site-packages/langchain_core/_api/deprecation.py:117: LangChainDeprecationWarning: The function `run` was deprecated in LangChain 0.1.0 and will be removed in 0.2.0. Use invoke instead.\n",
      "  warn_deprecated(\n"
     ]
    },
    {
     "name": "stdout",
     "output_type": "stream",
     "text": [
      "\n",
      "\n",
      "\u001b[1m> Entering new AgentExecutor chain...\u001b[0m\n",
      "\u001b[32;1m\u001b[1;3m Yes.\n",
      "Follow up: Who is the reigning women's Wimbledon champion?\u001b[0m\n",
      "Intermediate answer: \u001b[36;1m\u001b[1;3mList of Wimbledon ladies' singles champions ; 3: Lottie Dod · Suzanne Lenglen (challenge round) 4: Helen Wills Moody (regular) · 6: Martina Navratilova. Ashleigh Barty was the reigning champion, but retired from professional tennis in March 2022. World No. 1 Iga Świątek's win streak of 37 matches (dating to ... Wimbledon Winners: Women ; 2018, Angelique Kerber (Germany), Serena Williams (USA) ; 2017, Garbiñe Muguruza (Spain), Venus Williams (USA) ; 2016, Serena Williams ( ... Wimbledon Women's Singles Winners ; 2018, Angelique Kerber (GER), Serena Williams (USA) ; 2017, Garbine Muguruza (ESP), Venus Williams (USA) ; 2016, Serena ... The Women's singles at Wimbledon Championships 2023 was won by Markéta Vondrouová, who defeated Ons Jabeur in the finals, 6-4, 6-4. Missing: reigning | Show results with:reigning. Ladies' Singles ; 2019, S. Halep (ROU), 7 ; 2018, A. Kerber (GER), 11 ; 2017, G. Muguruza (ESP), 14 ; 2016, S. Williams (USA), 1 ... Missing: reigning | Show results with:reigning. Marketa Vondrousova joined the list of women's singles champions at Wimbledon in the Open era on Saturday with her straight-sets win over ... Missing: reigning | Show results with:reigning. Who won Wimbledon last year? Women's champion. Elena Rybakina won her first grand slam title and became the first Kazakhstani to win a major ... Missing: reigning | Show results with:reigning. Elena Rybakina of Kazakhstan with the winners trophy after defeating Ons Jabeur of Tunisia in the Photo by Simon Bruty/Anychance/Getty Images. The Wimbledon Tennis Championship drew to a close on Sunday as 20-year-old Carlos Alcaraz topped reigning champion and star of the sport ...\u001b[0m\n",
      "\u001b[32;1m\u001b[1;3mIntermediate answer: The reigning women's Wimbledon champion is Markéta Vondroušová.\n",
      "Follow up: Who are the parents of Markéta Vondroušová?\u001b[0m\n",
      "Intermediate answer: \u001b[36;1m\u001b[1;3mMarkéta Vondroušová: Czech tennis player. Markéta Šimková is a Czech professional tennis player. She has a career-high singles ranking of world No. 6 by the WTA. Vondroušová is the reigning Wimbledon champion, winning the tournament in 2023, the first unseeded woman to win the singles... Markéta Vondroušová Born: 1999 (age 24 years), Sokolov, Czechia. Markéta Vondroušová Parents: Jindřiška Anderlová and David Vondrouš. Markéta Vondroušová Nationality: Czech. Markéta Vondroušová Height: 5′ 8″. Markéta Vondroušová Coach: Jiří Hřebec, Jan Hernych. Markéta Vondroušová Fed Cup: SF (2017), record 12–1. Markéta Vondroušová Olympic Games: (2020). David Vondrous and Jindriska Anderlova are Marketa Vondrousova's Parents. Get more information on Marketa Vondrousova's father, mother and their nationality ... Markéta Šimková is a Czech professional tennis player. She has a career-high singles ranking of world No. 6 by the WTA. Vondroušová is the reigning ... David Vondrouš is the father of Markéta Vondroušová. He was also a tennis player when he was young. However, he was only interested in the game ... Her parents, Petr and Taťána Vondroušová, recognized her talent and dedication to the sport from a young age. This moment between Markéta Vondroušová and her family. Vondroušová is the daughter of Jindřiška Anderlová, who was once a prominent volleyball star for Slavia Prague. Her father played tennis for ... Markéta Vondroušová Books Cat Sitter So Family Can Watch Her Compete in Wimbledon Final ... Anna Lazarus Caplan is a writer-reporter for PEOPLE. ... father, David Voundrous, and by 10-years-old she was practicing in Prague. Mother, Jindriska Anderlova played volleyball in the top Czech league. Married ... Missing: parents | Show results with:parents. When she was about 14, her parents signed an agreement with a manager, Vladimir Houdek, which, she says, provided her with financial support in ... Marketa Vondrousova Family With Father,Mother and Boyfriend Stepan Simek 2020 https ... Duration: 2:00. Posted: Sep 19, 2020.\u001b[0m\n",
      "\u001b[32;1m\u001b[1;3mSo the final answer is: Jindřiška Anderlová and David Vondrouš.\u001b[0m\n",
      "\n",
      "\u001b[1m> Finished chain.\u001b[0m\n"
     ]
    },
    {
     "data": {
      "text/plain": [
       "'Jindřiška Anderlová and David Vondrouš.'"
      ]
     },
     "execution_count": 3,
     "metadata": {},
     "output_type": "execute_result"
    }
   ],
   "source": [
    "self_ask_with_search = initialize_agent(tools, llm, agent=AgentType.SELF_ASK_WITH_SEARCH, verbose=True)\n",
    "self_ask_with_search.run(\"What is parents name  of the reigning women's Wimbeldon champion?\")"
   ]
  }
 ],
 "metadata": {
  "kernelspec": {
   "display_name": "Python 3",
   "language": "python",
   "name": "python3"
  },
  "language_info": {
   "codemirror_mode": {
    "name": "ipython",
    "version": 3
   },
   "file_extension": ".py",
   "mimetype": "text/x-python",
   "name": "python",
   "nbconvert_exporter": "python",
   "pygments_lexer": "ipython3",
   "version": "3.11.8"
  }
 },
 "nbformat": 4,
 "nbformat_minor": 2
}
