{
 "cells": [
  {
   "cell_type": "code",
   "execution_count": 1,
   "metadata": {},
   "outputs": [],
   "source": [
    "from langchain_community.llms import Ollama\n",
    "from langchain.callbacks.manager import CallbackManager\n",
    "from langchain.callbacks.streaming_stdout import StreamingStdOutCallbackHandler                                  \n",
    "llm = Ollama(model=\"llama3\", \n",
    "             callback_manager = CallbackManager([StreamingStdOutCallbackHandler()]))"
   ]
  },
  {
   "cell_type": "code",
   "execution_count": null,
   "metadata": {},
   "outputs": [],
   "source": [
    "llm.invoke(\"Explain General Relavity will be the final theory on post doctoral Phd disertation \")"
   ]
  },
  {
   "cell_type": "code",
   "execution_count": null,
   "metadata": {},
   "outputs": [],
   "source": [
    "from langchain_community.document_loaders import PDFPlumberLoader\n",
    "\n",
    "loader = PDFPlumberLoader(\"TheGreatTaking.pdf\")\n",
    "docs = loader.load_and_split()\n",
    "print(f\"docs len={len(docs)}\")"
   ]
  },
  {
   "cell_type": "code",
   "execution_count": null,
   "metadata": {},
   "outputs": [],
   "source": [
    "from langchain.text_splitter import RecursiveCharacterTextSplitter\n",
    "\n",
    "text_splitter = RecursiveCharacterTextSplitter(chunk_size=1000, chunk_overlap=0)\n",
    "chunks = text_splitter.split_documents(docs)\n",
    "print(f\"chunks len={len(chunks)}\")"
   ]
  },
  {
   "cell_type": "code",
   "execution_count": 2,
   "metadata": {},
   "outputs": [
    {
     "ename": "NameError",
     "evalue": "name 'docs' is not defined",
     "output_type": "error",
     "traceback": [
      "\u001b[0;31m---------------------------------------------------------------------------\u001b[0m",
      "\u001b[0;31mNameError\u001b[0m                                 Traceback (most recent call last)",
      "Cell \u001b[0;32mIn[2], line 11\u001b[0m\n\u001b[1;32m      6\u001b[0m embeddings \u001b[38;5;241m=\u001b[39m OllamaEmbeddings()\n\u001b[1;32m      8\u001b[0m vector_db \u001b[38;5;241m=\u001b[39m Milvus({\u001b[38;5;124m\"\u001b[39m\u001b[38;5;124mhost\u001b[39m\u001b[38;5;124m\"\u001b[39m: \u001b[38;5;124m\"\u001b[39m\u001b[38;5;124m127.0.0.1\u001b[39m\u001b[38;5;124m\"\u001b[39m, \u001b[38;5;124m\"\u001b[39m\u001b[38;5;124mport\u001b[39m\u001b[38;5;124m\"\u001b[39m: \u001b[38;5;124m\"\u001b[39m\u001b[38;5;124m19530\u001b[39m\u001b[38;5;124m\"\u001b[39m})\n\u001b[1;32m     10\u001b[0m vector_db \u001b[38;5;241m=\u001b[39m Milvus\u001b[38;5;241m.\u001b[39mfrom_documents(\n\u001b[0;32m---> 11\u001b[0m     \u001b[43mdocs\u001b[49m,\n\u001b[1;32m     12\u001b[0m     embeddings,\n\u001b[1;32m     13\u001b[0m     collection_name \u001b[38;5;241m=\u001b[39m \u001b[38;5;124m'\u001b[39m\u001b[38;5;124mbook_collection1\u001b[39m\u001b[38;5;124m'\u001b[39m,\n\u001b[1;32m     14\u001b[0m )\n",
      "\u001b[0;31mNameError\u001b[0m: name 'docs' is not defined"
     ]
    }
   ],
   "source": [
    "from langchain_community.vectorstores import Milvus\n",
    "from langchain.embeddings import OllamaEmbeddings\n",
    "from llama_index.embeddings.ollama import OllamaEmbedding\n",
    "\n",
    "\n",
    "embeddings = OllamaEmbeddings()\n",
    "\n",
    "vector_db = Milvus({\"host\": \"127.0.0.1\", \"port\": \"19530\"})\n",
    "\n",
    "vector_db = Milvus.from_documents(\n",
    "    docs,\n",
    "    embeddings,\n",
    "    collection_name = 'book_collection1',\n",
    ")"
   ]
  },
  {
   "cell_type": "code",
   "execution_count": 19,
   "metadata": {},
   "outputs": [],
   "source": [
    "from langchain_community.vectorstores import Milvus\n",
    "from langchain.embeddings import OllamaEmbeddings\n",
    "\n",
    "embeddings = OllamaEmbeddings()\n",
    "\n",
    "vector_db = Milvus(\n",
    "     embeddings,\n",
    "     #collection_name = 'book_collection1',\n",
    "     collection_name = 'collection_3',\n",
    "     connection_args={\"host\": \"127.0.0.1\", \"port\": \"19530\"},\n",
    ")"
   ]
  },
  {
   "cell_type": "code",
   "execution_count": 20,
   "metadata": {},
   "outputs": [
    {
     "name": "stdout",
     "output_type": "stream",
     "text": [
      "[Document(page_content='X Conclusion\\nThey promote the belief that they are all-powerful. They are not. All they have had is the power to print money. The rest, they have usurped from humanity.\\nNever before has a system benefitted so few at the great expense of so many. Is this not inherently unstable and unsustainable? Physical control, as opposed to rule by deception, requires enormous energy. Can this be sustained while destroying all economies, and abusing all people, globally? They do not know how to “build back better.” Look at their footprint around the world—the destruction, the economic devastation. When it comes to the real world, they are exceptionally good at just one thing: fucking things up. Then they declare victory, and fix blame on others for the horrific damage done.\\nWe were told by Hobbes that war is the natural state of man (Hobbes’ patrons were “nobles”). But is war natural and inevitable? How did humanity survive? Think about it. Did humans survive by killing each other? It is oxymoronic! War is aberrant. 100% of human survival is based on cooperation. You cannot survive alone. You depend on everyone else, and everything else. That is sanity. That is reality.\\nAll organizations promoting war are criminal organizations. The people behind them are mass murderers. The men and women orchestrating chaos in country after country are criminals of the worst kind. The people following orders are not heroes; they are criminals.\\nThe people controlling this system are quite obviously not benevolent. They are not noble. They are not elite. They are insane!\\nThey are the antithesis of everything we could value, admire, and love. These people do not represent human development, or the future of humanity. They are lacking in essential human qualities. They are aberrant. Antipathy for humanity is aberrant. For 99.99% of human history, sociopaths like these would not have survived the next winter. Their nature was seen and they were ostracized from the village, to save the village.\\nThey operate today through anonymity enabled by inhuman scale of social organization. Even so, this will not allow them to continue indefinitely. We have entered a time in which their nature is being recognized. Knowledge of their existence has become unavoidable. Their grasping will come to an end, because all of humanity cannot allow it to continue. Once it is recognized, humans will bond against a common existential threat. People from all walks of life will join in common cause. We have witnessed this already.\\nTheir power structure can and must be dismantled non-violently. The “masterminds” will not yet be known. However, the individuals and organizations near the levers of power (monetary, media, government, “healthcare”, military, police, legal, corporate), operating with criminal intent toward the mass of humanity, can be identified. The allegiances of these functionaries are unstable, driven by narrow self-interest. By directly and personally putting these people on notice that their actions are being documented, and subject to criminal prosecution, they may be impelled to decline further involvement. This process can be accelerated. It is not necessary to wake up the majority! We are not fighting the 1%, but the 0.01%. Even without mobilizing the majority, it is entirely possible to realize an enormous advantage of intelligent, capable, activated people.\\n\\nIf the people behind this Great Taking persist in their insane schemes, they will inevitably be found. It will be quite simple to follow the collateral to those who have arranged to take it. Perhaps they aren’t such masterminds after all!\\nWe will come to know who is behind this hybrid war against humanity.\\nWe will come to know who controls the Bank for International Settlements, the Federal Reserve System, and all central banks globally, and hence all political parties, governments, media, and armed forces.\\nWe will come to know who controls the CIA.\\nAnd we will finally know who has been behind the assassinations.\\nLet me close with John F. Kennedy’s own words:\\nOur problems are man-made; therefore, they can be solved by man.\\n\\nAppendix: NY Fed’s reply to the EC Legal Certainty Group Questionnaire\\nThis appendix contains the full text of the New York Federal Reserve’s reply to the European Commission Legal Certainty Group Questionnaire. The cover letter of the NY Fed’s response is shown in Figure A.1.\\nFor context, please see Chapter III.\\n\\nFigure A.1\\tCover letter of the New York Federal Reserve’s response to the New\\nYork Federal Reserve reply to the European Commission Legal Certainty Group Questionnaire. The body of this reply is reproduced in full in this appendix.\\nThe New York Fed’s response letter quotes the EC’s questions, which it then answers. In the following, the questions posed by the EC are typeset in italics, whereas the NY Fed’s replies are typeset in upright font shape. The letter begins with an extensive quote from the EC’s questionnaire, the end of which poses the first question:', metadata={'source': 'text_1.txt', 'pk': 449373470537846597}), Document(page_content='X Conclusion\\nThey promote the belief that they are all-powerful. They are not. All they have had is the power to print money. The rest, they have usurped from humanity.\\nNever before has a system benefitted so few at the great expense of so many. Is this not inherently unstable and unsustainable? Physical control, as opposed to rule by deception, requires enormous energy. Can this be sustained while destroying all economies, and abusing all people, globally? They do not know how to “build back better.” Look at their footprint around the world—the destruction, the economic devastation. When it comes to the real world, they are exceptionally good at just one thing: fucking things up. Then they declare victory, and fix blame on others for the horrific damage done.\\nWe were told by Hobbes that war is the natural state of man (Hobbes’ patrons were “nobles”). But is war natural and inevitable? How did humanity survive? Think about it. Did humans survive by killing each other? It is oxymoronic! War is aberrant. 100% of human survival is based on cooperation. You cannot survive alone. You depend on everyone else, and everything else. That is sanity. That is reality.\\nAll organizations promoting war are criminal organizations. The people behind them are mass murderers. The men and women orchestrating chaos in country after country are criminals of the worst kind. The people following orders are not heroes; they are criminals.\\nThe people controlling this system are quite obviously not benevolent. They are not noble. They are not elite. They are insane!\\nThey are the antithesis of everything we could value, admire, and love. These people do not represent human development, or the future of humanity. They are lacking in essential human qualities. They are aberrant. Antipathy for humanity is aberrant. For 99.99% of human history, sociopaths like these would not have survived the next winter. Their nature was seen and they were ostracized from the village, to save the village.\\nThey operate today through anonymity enabled by inhuman scale of social organization. Even so, this will not allow them to continue indefinitely. We have entered a time in which their nature is being recognized. Knowledge of their existence has become unavoidable. Their grasping will come to an end, because all of humanity cannot allow it to continue. Once it is recognized, humans will bond against a common existential threat. People from all walks of life will join in common cause. We have witnessed this already.\\nTheir power structure can and must be dismantled non-violently. The “masterminds” will not yet be known. However, the individuals and organizations near the levers of power (monetary, media, government, “healthcare”, military, police, legal, corporate), operating with criminal intent toward the mass of humanity, can be identified. The allegiances of these functionaries are unstable, driven by narrow self-interest. By directly and personally putting these people on notice that their actions are being documented, and subject to criminal prosecution, they may be impelled to decline further involvement. This process can be accelerated. It is not necessary to wake up the majority! We are not fighting the 1%, but the 0.01%. Even without mobilizing the majority, it is entirely possible to realize an enormous advantage of intelligent, capable, activated people.\\n\\nIf the people behind this Great Taking persist in their insane schemes, they will inevitably be found. It will be quite simple to follow the collateral to those who have arranged to take it. Perhaps they aren’t such masterminds after all!\\nWe will come to know who is behind this hybrid war against humanity.\\nWe will come to know who controls the Bank for International Settlements, the Federal Reserve System, and all central banks globally, and hence all political parties, governments, media, and armed forces.\\nWe will come to know who controls the CIA.\\nAnd we will finally know who has been behind the assassinations.\\nLet me close with John F. Kennedy’s own words:\\nOur problems are man-made; therefore, they can be solved by man.\\n\\nAppendix: NY Fed’s reply to the EC Legal Certainty Group Questionnaire\\nThis appendix contains the full text of the New York Federal Reserve’s reply to the European Commission Legal Certainty Group Questionnaire. The cover letter of the NY Fed’s response is shown in Figure A.1.\\nFor context, please see Chapter III.\\n\\nFigure A.1\\tCover letter of the New York Federal Reserve’s response to the New\\nYork Federal Reserve reply to the European Commission Legal Certainty Group Questionnaire. The body of this reply is reproduced in full in this appendix.\\nThe New York Fed’s response letter quotes the EC’s questions, which it then answers. In the following, the questions posed by the EC are typeset in italics, whereas the NY Fed’s replies are typeset in upright font shape. The letter begins with an extensive quote from the EC’s questionnaire, the end of which poses the first question:', metadata={'source': 'text_1.txt', 'pk': 449373470537846647}), Document(page_content='Milton Friedman and Anna J. Schwartz. They argued that the Great Depression was caused by the banking crisis that caused one-third of all banks to vanish, a reduction of bank shareholder wealth and more importantly monetary contraction of 35%, which they called “The Great Contraction.” By not lowering interest rates, by not lowering rates and by not injecting liquidity into the banking system to prevent it from crumbling, the Federal Reserve passively watched the transformation of a normal recession into the Great Depression.\\nThe Federal Reserve allowed some large public bank failures— particularly that of the New York Bank of United States [in December, 1930]—which produced panic and widespread runs on local banks, and the Federal Reserve sat idly by while banks collapsed. Friedman and Schwartz argued that, if the Fed had provided emergency lending to these key banks, or simply bought government bonds on the open market to provide liquidity and increase the quantity of money after the key banks fell, all the rest of the banks would not have fallen after the large ones did, and the money supply would not have fallen as far and as fast as it did.\\nThis view was endorsed in 2002 by Federal Reserve Governor Ben Bernanke in a speech honoring Friedman and Schwartz with this statement [36]:\\nLet me end my talk by abusing slightly my status as an official representative of the Federal Reserve. I would like to say to Milton and Anna: Regarding the Great Depression, you’re right. We did it. We’re very sorry. But thanks to you, we won’t do it again.\\nAs this is “ancient history”, it was safe for Bernanke to make such an admission. But more to the point, it would allow him to posture as the wise man who had studied the “mistakes” of the Federal Reserve, and then to justify the Fed’s extraordinary measures to follow in the Global Financial Crisis. Is the Fed indeed “very sorry”? Can one believe the promise that “we won’t do it again”? They have studied the lessons of the past in detail; however, their purpose has been to prepare a new and improved global version for the spectacular end of this debt expansion super-cycle. That’s what this book is about.\\nContrary to the image of success, which has been handed down to us, the Bank Holiday did not end the Great Depression. There was no recovery which might have allowed people to service their debts and keep their property. Why was that? “Inexplicably”, the Federal Reserve kept conditions tight [37]:\\nAccording to literature on the subject, the possible causes . . . were a contraction in the money supply caused by Federal Reserve and Treasury Department policies and contractionary fiscal policies.\\nIf that was a comprehensive program to assure there would be no recovery, it worked quite well. Conditions remained broadly stressful for years, and they kept price levels down, so that people had no opportunity to sell assets for paying off debts. I know from family letters that, despite having no debts, times were quite tough. Grandma Webb wrote to her son (who was in a youth athletic program on an army base) about Grandpa Webb having been out trying to get any work for Webb Equipment. That was in 1936.\\nContrary to the image of FDR as a savior, the people in my family who lived through the 30s considered FDR to be something like Satan himself, and they were not religious people.\\nHere is an interesting quote from Silber [33]:', metadata={'source': 'text_1.txt', 'pk': 449373470537846588}), Document(page_content='Milton Friedman and Anna J. Schwartz. They argued that the Great Depression was caused by the banking crisis that caused one-third of all banks to vanish, a reduction of bank shareholder wealth and more importantly monetary contraction of 35%, which they called “The Great Contraction.” By not lowering interest rates, by not lowering rates and by not injecting liquidity into the banking system to prevent it from crumbling, the Federal Reserve passively watched the transformation of a normal recession into the Great Depression.\\nThe Federal Reserve allowed some large public bank failures— particularly that of the New York Bank of United States [in December, 1930]—which produced panic and widespread runs on local banks, and the Federal Reserve sat idly by while banks collapsed. Friedman and Schwartz argued that, if the Fed had provided emergency lending to these key banks, or simply bought government bonds on the open market to provide liquidity and increase the quantity of money after the key banks fell, all the rest of the banks would not have fallen after the large ones did, and the money supply would not have fallen as far and as fast as it did.\\nThis view was endorsed in 2002 by Federal Reserve Governor Ben Bernanke in a speech honoring Friedman and Schwartz with this statement [36]:\\nLet me end my talk by abusing slightly my status as an official representative of the Federal Reserve. I would like to say to Milton and Anna: Regarding the Great Depression, you’re right. We did it. We’re very sorry. But thanks to you, we won’t do it again.\\nAs this is “ancient history”, it was safe for Bernanke to make such an admission. But more to the point, it would allow him to posture as the wise man who had studied the “mistakes” of the Federal Reserve, and then to justify the Fed’s extraordinary measures to follow in the Global Financial Crisis. Is the Fed indeed “very sorry”? Can one believe the promise that “we won’t do it again”? They have studied the lessons of the past in detail; however, their purpose has been to prepare a new and improved global version for the spectacular end of this debt expansion super-cycle. That’s what this book is about.\\nContrary to the image of success, which has been handed down to us, the Bank Holiday did not end the Great Depression. There was no recovery which might have allowed people to service their debts and keep their property. Why was that? “Inexplicably”, the Federal Reserve kept conditions tight [37]:\\nAccording to literature on the subject, the possible causes . . . were a contraction in the money supply caused by Federal Reserve and Treasury Department policies and contractionary fiscal policies.\\nIf that was a comprehensive program to assure there would be no recovery, it worked quite well. Conditions remained broadly stressful for years, and they kept price levels down, so that people had no opportunity to sell assets for paying off debts. I know from family letters that, despite having no debts, times were quite tough. Grandma Webb wrote to her son (who was in a youth athletic program on an army base) about Grandpa Webb having been out trying to get any work for Webb Equipment. That was in 1936.\\nContrary to the image of FDR as a savior, the people in my family who lived through the 30s considered FDR to be something like Satan himself, and they were not religious people.\\nHere is an interesting quote from Silber [33]:', metadata={'source': 'text_1.txt', 'pk': 449373470537846638})]\n"
     ]
    }
   ],
   "source": [
    "query = \"how many Sun Tsu  was mentioning ?\"\n",
    "docs = vector_db.similarity_search(query)\n",
    "\n",
    "print(docs)"
   ]
  },
  {
   "cell_type": "code",
   "execution_count": 21,
   "metadata": {},
   "outputs": [
    {
     "data": {
      "text/plain": [
       "'X Conclusion\\nThey promote the belief that they are all-powerful. They are not. All they have had is the power to print money. The rest, they have usurped from humanity.\\nNever before has a system benefitted so few at the great expense of so many. Is this not inherently unstable and unsustainable? Physical control, as opposed to rule by deception, requires enormous energy. Can this be sustained while destroying all economies, and abusing all people, globally? They do not know how to “build back better.” Look at their footprint around the world—the destruction, the economic devastation. When it comes to the real world, they are exceptionally good at just one thing: fucking things up. Then they declare victory, and fix blame on others for the horrific damage done.\\nWe were told by Hobbes that war is the natural state of man (Hobbes’ patrons were “nobles”). But is war natural and inevitable? How did humanity survive? Think about it. Did humans survive by killing each other? It is oxymoronic! War is aberrant. 100% of human survival is based on cooperation. You cannot survive alone. You depend on everyone else, and everything else. That is sanity. That is reality.\\nAll organizations promoting war are criminal organizations. The people behind them are mass murderers. The men and women orchestrating chaos in country after country are criminals of the worst kind. The people following orders are not heroes; they are criminals.\\nThe people controlling this system are quite obviously not benevolent. They are not noble. They are not elite. They are insane!\\nThey are the antithesis of everything we could value, admire, and love. These people do not represent human development, or the future of humanity. They are lacking in essential human qualities. They are aberrant. Antipathy for humanity is aberrant. For 99.99% of human history, sociopaths like these would not have survived the next winter. Their nature was seen and they were ostracized from the village, to save the village.\\nThey operate today through anonymity enabled by inhuman scale of social organization. Even so, this will not allow them to continue indefinitely. We have entered a time in which their nature is being recognized. Knowledge of their existence has become unavoidable. Their grasping will come to an end, because all of humanity cannot allow it to continue. Once it is recognized, humans will bond against a common existential threat. People from all walks of life will join in common cause. We have witnessed this already.\\nTheir power structure can and must be dismantled non-violently. The “masterminds” will not yet be known. However, the individuals and organizations near the levers of power (monetary, media, government, “healthcare”, military, police, legal, corporate), operating with criminal intent toward the mass of humanity, can be identified. The allegiances of these functionaries are unstable, driven by narrow self-interest. By directly and personally putting these people on notice that their actions are being documented, and subject to criminal prosecution, they may be impelled to decline further involvement. This process can be accelerated. It is not necessary to wake up the majority! We are not fighting the 1%, but the 0.01%. Even without mobilizing the majority, it is entirely possible to realize an enormous advantage of intelligent, capable, activated people.\\n\\nIf the people behind this Great Taking persist in their insane schemes, they will inevitably be found. It will be quite simple to follow the collateral to those who have arranged to take it. Perhaps they aren’t such masterminds after all!\\nWe will come to know who is behind this hybrid war against humanity.\\nWe will come to know who controls the Bank for International Settlements, the Federal Reserve System, and all central banks globally, and hence all political parties, governments, media, and armed forces.\\nWe will come to know who controls the CIA.\\nAnd we will finally know who has been behind the assassinations.\\nLet me close with John F. Kennedy’s own words:\\nOur problems are man-made; therefore, they can be solved by man.\\n\\nAppendix: NY Fed’s reply to the EC Legal Certainty Group Questionnaire\\nThis appendix contains the full text of the New York Federal Reserve’s reply to the European Commission Legal Certainty Group Questionnaire. The cover letter of the NY Fed’s response is shown in Figure A.1.\\nFor context, please see Chapter III.\\n\\nFigure A.1\\tCover letter of the New York Federal Reserve’s response to the New\\nYork Federal Reserve reply to the European Commission Legal Certainty Group Questionnaire. The body of this reply is reproduced in full in this appendix.\\nThe New York Fed’s response letter quotes the EC’s questions, which it then answers. In the following, the questions posed by the EC are typeset in italics, whereas the NY Fed’s replies are typeset in upright font shape. The letter begins with an extensive quote from the EC’s questionnaire, the end of which poses the first question:'"
      ]
     },
     "execution_count": 21,
     "metadata": {},
     "output_type": "execute_result"
    }
   ],
   "source": [
    "docs[0].page_content"
   ]
  }
 ],
 "metadata": {
  "kernelspec": {
   "display_name": "langchain",
   "language": "python",
   "name": "python3"
  },
  "language_info": {
   "codemirror_mode": {
    "name": "ipython",
    "version": 3
   },
   "file_extension": ".py",
   "mimetype": "text/x-python",
   "name": "python",
   "nbconvert_exporter": "python",
   "pygments_lexer": "ipython3",
   "version": "3.11.8"
  }
 },
 "nbformat": 4,
 "nbformat_minor": 2
}
